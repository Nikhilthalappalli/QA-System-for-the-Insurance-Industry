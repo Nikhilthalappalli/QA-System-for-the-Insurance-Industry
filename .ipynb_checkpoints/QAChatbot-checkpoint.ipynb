{
 "cells": [
  {
   "cell_type": "code",
   "execution_count": 7,
   "id": "5a2c6c01-2be8-4ced-ac35-0247f4ddfe83",
   "metadata": {},
   "outputs": [],
   "source": [
    "from langchain import HuggingFacePipeline\n",
    "from transformers import AutoModelForCausalLM, AutoTokenizer, pipeline\n",
    "import transformers\n",
    "import torch\n",
    "from langchain.embeddings import HuggingFaceEmbeddings\n",
    "from langchain.vectorstores import FAISS\n",
    "from langchain.memory import ConversationBufferMemory\n",
    "from langchain.chains import ConversationalRetrievalChain\n",
    "from dotenv import load_dotenv\n",
    "from langchain.llms import HuggingFaceHub\n",
    "\n",
    "load_dotenv()\n",
    "DB_FAISS_PATH = 'vectorstore/db_faiss'\n"
   ]
  },
  {
   "cell_type": "code",
   "execution_count": 8,
   "id": "f8a12f7c-023d-48bb-b9ac-a3406e084223",
   "metadata": {},
   "outputs": [],
   "source": [
    "def get_demo_vectorstore(DB_FAISS_PATH):\n",
    "    embeddings = HuggingFaceEmbeddings(model_name=\"sentence-transformers/all-MiniLM-L6-v2\",\n",
    "                                       model_kwargs={'device': 'cpu'})\n",
    "    vectorstore = FAISS.load_local(DB_FAISS_PATH, embeddings)\n",
    "    return vectorstore"
   ]
  },
  {
   "cell_type": "code",
   "execution_count": 9,
   "id": "66f896f2-b376-423d-8931-f121fc486094",
   "metadata": {},
   "outputs": [],
   "source": [
    "def conversation_chain(vectorstore):\n",
    "    llm = HuggingFaceHub(repo_id=\"tiiuae/falcon-7b-instruct\", model_kwargs={\"temperature\":0.5, \"max_length\":512})\n",
    "    \n",
    "    memory = ConversationBufferMemory(memory_key='chat_history',return_messages=True)\n",
    "    conversation_chain = ConversationalRetrievalChain.from_llm(\n",
    "        llm = llm,\n",
    "        retriever=vectorstore.as_retriever(search_type='similarity',search_kwargs={\"k\":4}),\n",
    "        memory=memory \n",
    "    )\n",
    "    return conversation_chain"
   ]
  },
  {
   "cell_type": "code",
   "execution_count": 10,
   "id": "7d561d99-f31e-490e-8d14-b239defb6541",
   "metadata": {},
   "outputs": [],
   "source": [
    "def handle_userinput(user_question, conversation):\n",
    "    response = conversation({'question': user_question})\n",
    "    chat_history = [(user_question,response['answer'])]\n",
    "    print(response['question'])\n",
    "    print(response['answer'])"
   ]
  },
  {
   "cell_type": "code",
   "execution_count": 11,
   "id": "9b5686aa-6ce6-4fbf-8b54-eab623a8b185",
   "metadata": {},
   "outputs": [],
   "source": [
    "def main():\n",
    "    vectorstore = get_demo_vectorstore(DB_FAISS_PATH)\n",
    "    conversation = conversation_chain(vectorstore)\n",
    "    chat_history = []\n",
    "    while True:\n",
    "      user_question = input(\"Enter the question\")\n",
    "      if user_question == \"EXIT\":\n",
    "        print(\"Exiting\")\n",
    "        break\n",
    "      if user_question:\n",
    "        handle_userinput(user_question, conversation)"
   ]
  },
  {
   "cell_type": "code",
   "execution_count": null,
   "id": "8dfccbf6-f32e-43c1-9081-eb2e2d5da9ca",
   "metadata": {
    "scrolled": true
   },
   "outputs": [
    {
     "name": "stderr",
     "output_type": "stream",
     "text": [
      "C:\\Users\\thala\\OneDrive\\Desktop\\Brototype\\projects\\chat bot\\chatbot\\lib\\site-packages\\huggingface_hub\\utils\\_deprecation.py:127: FutureWarning: '__init__' (from 'huggingface_hub.inference_api') is deprecated and will be removed from version '0.19.0'. `InferenceApi` client is deprecated in favor of the more feature-complete `InferenceClient`. Check out this guide to learn how to convert your script to use it: https://huggingface.co/docs/huggingface_hub/guides/inference#legacy-inferenceapi-client.\n",
      "  warnings.warn(warning_message, FutureWarning)\n"
     ]
    },
    {
     "name": "stdin",
     "output_type": "stream",
     "text": [
      "Enter the question what is Demand for Insurance Services\n"
     ]
    },
    {
     "name": "stdout",
     "output_type": "stream",
     "text": [
      "what is Demand for Insurance Services\n",
      "\n",
      "The demand for insurance services is the amount of money that people pay for \n",
      "insurance products and services. This can include premiums paid to \n",
      "insurance companies for coverage of risk and potential losses. The demand for \n",
      "insurance services can be affected by changes in interest rates, economic \n",
      "growth, the size of the population, and changes in the availability and \n",
      "cost of insurance products.\n",
      "\n",
      "The demand for insurance services can be affected by changes in interest rates. \n",
      "For example, if interest rates increase, people may be less likely to take out \n",
      "insurance policies. Similarly, if interest rates decrease, people may be more \n",
      "likely to take out insurance policies.\n",
      "\n",
      "The demand for insurance services can also be affected by changes in economic \n",
      "growth. For example, if the economy is growing, people may be more likely to \n",
      "take out insurance policies. Similarly, if the economy is in a recession, \n",
      "people may be less likely to take out insurance policies.\n",
      "\n",
      "The demand for insurance services can also be affected by changes in the size of \n",
      "the population. For example, if the population is growing, the demand for \n",
      "insurance services may increase. Similarly, if the population is shrinking, the \n",
      "demand for insurance services may decrease.\n",
      "\n",
      "The demand for insurance services can also be affected by changes in the availability \n",
      "and cost of insurance products. For example, if insurance products become \n",
      "more readily available and cheaper, the demand for insurance services may \n",
      "decrease. Similarly, if insurance products become more expensive, the demand \n",
      "for insurance services may increase.\n",
      "\n",
      "Overall, the demand for insurance services can be affected by changes in interest \n",
      "rates, economic growth, population growth, and changes in the availability and cost \n",
      "insurance products.\n"
     ]
    },
    {
     "name": "stdin",
     "output_type": "stream",
     "text": [
      "Enter the question tell me in 50 words\n"
     ]
    },
    {
     "name": "stdout",
     "output_type": "stream",
     "text": [
      "tell me in 50 words\n",
      " \n",
      "The demand for insurance services can be influenced by a variety of factors, including changes in the economy, population growth, and the availability and cost of insurance products, as well as changes in the availability and cost of insurance products, as they can affect the affordability and availability of insurance services. Additionally, changes in interest rates, economic growth, and population growth can also have an impact on the demand for insurance services.\n"
     ]
    }
   ],
   "source": [
    "main()"
   ]
  },
  {
   "cell_type": "code",
   "execution_count": null,
   "id": "34d1da7f-fa7a-40e2-90fd-e3f1bd6850ea",
   "metadata": {},
   "outputs": [],
   "source": []
  }
 ],
 "metadata": {
  "kernelspec": {
   "display_name": "Python 3 (ipykernel)",
   "language": "python",
   "name": "python3"
  },
  "language_info": {
   "codemirror_mode": {
    "name": "ipython",
    "version": 3
   },
   "file_extension": ".py",
   "mimetype": "text/x-python",
   "name": "python",
   "nbconvert_exporter": "python",
   "pygments_lexer": "ipython3",
   "version": "3.10.11"
  }
 },
 "nbformat": 4,
 "nbformat_minor": 5
}
